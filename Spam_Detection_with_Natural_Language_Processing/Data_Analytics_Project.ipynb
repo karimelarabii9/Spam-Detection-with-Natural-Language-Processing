{
  "nbformat": 4,
  "nbformat_minor": 0,
  "metadata": {
    "colab": {
      "provenance": []
    },
    "kernelspec": {
      "name": "python3",
      "display_name": "Python 3"
    },
    "language_info": {
      "name": "python"
    }
  },
  "cells": [
    {
      "cell_type": "markdown",
      "source": [
        "# **ALL IMPORTS**\n",
        "\n"
      ],
      "metadata": {
        "id": "OFA6hu-Fsk0X"
      }
    },
    {
      "cell_type": "code",
      "source": [
        "import nltk\n",
        "import pandas as pd\n",
        "import string\n",
        "from sklearn.feature_extraction.text import CountVectorizer\n",
        "import inflect as info\n",
        "from nltk.corpus import stopwords\n",
        "from nltk.tokenize import word_tokenize\n",
        "from nltk.stem.porter import PorterStemmer\n",
        "from nltk.stem import WordNetLemmatizer\n",
        "from textblob import TextBlob\n",
        "from sklearn.model_selection import train_test_split\n",
        "from sklearn.naive_bayes import MultinomialNB\n",
        "from sklearn.metrics import accuracy_score, f1_score, precision_score, recall_score\n",
        "from sklearn.linear_model import LogisticRegression\n",
        "from sklearn import svm\n",
        "from sklearn.ensemble import RandomForestClassifier\n",
        "from sklearn.neighbors import KNeighborsClassifier\n",
        "from nltk import pos_tag\n",
        "import matplotlib.pyplot as plt\n",
        "##nltk.download()\n",
        "nltk.download('stopwords')\n",
        "nltk.download('punkt')\n",
        "nltk.download('wordnet')\n",
        "import re"
      ],
      "metadata": {
        "colab": {
          "base_uri": "https://localhost:8080/"
        },
        "id": "v9G3TSe9ryD9",
        "outputId": "9d213671-5205-427d-aa62-4d795eb46c77"
      },
      "execution_count": null,
      "outputs": [
        {
          "output_type": "stream",
          "name": "stderr",
          "text": [
            "[nltk_data] Downloading package stopwords to /root/nltk_data...\n",
            "[nltk_data]   Unzipping corpora/stopwords.zip.\n",
            "[nltk_data] Downloading package punkt to /root/nltk_data...\n",
            "[nltk_data]   Unzipping tokenizers/punkt.zip.\n",
            "[nltk_data] Downloading package wordnet to /root/nltk_data...\n"
          ]
        }
      ]
    },
    {
      "cell_type": "markdown",
      "source": [
        "# **DATA PREPROCESSING**"
      ],
      "metadata": {
        "id": "TZw7nvszs_9p"
      }
    },
    {
      "cell_type": "code",
      "execution_count": null,
      "metadata": {
        "id": "is_rHUN6sgco",
        "colab": {
          "base_uri": "https://localhost:8080/",
          "height": 510
        },
        "outputId": "1fb68fa9-f277-4e1f-c66c-78e0d95d5623"
      },
      "outputs": [
        {
          "output_type": "stream",
          "name": "stdout",
          "text": [
            "v1    0\n",
            "v2    0\n",
            "dtype: int64\n",
            "Number of duplictaed rows= 458\n",
            "Number of duplictaed rows after cleaning= 0\n"
          ]
        },
        {
          "output_type": "execute_result",
          "data": {
            "text/plain": [
              "        v1                                         clean_data\n",
              "0      ham  go jurong point crazi avail bugi n great world...\n",
              "1      ham                              ok lar joke wif u oni\n",
              "2     spam  free entri two wkli comp win fa cup final tkt ...\n",
              "3      ham                u dun say earli hor u c alreadi say\n",
              "4      ham          nah dont think goe usf live around though\n",
              "...    ...                                                ...\n",
              "5567  spam  2nd time tri two contact u u å£750 pound prize...\n",
              "5568   ham                            ì b go esplanad fr home\n",
              "5569   ham                            piti mood soani suggest\n",
              "5570   ham  guy bitch act like id interest buy someth els ...\n",
              "5571   ham                                     rofl true name\n",
              "\n",
              "[5114 rows x 2 columns]"
            ],
            "text/html": [
              "\n",
              "  <div id=\"df-b58bbfd2-1a86-4d14-abbb-0e9751e15837\">\n",
              "    <div class=\"colab-df-container\">\n",
              "      <div>\n",
              "<style scoped>\n",
              "    .dataframe tbody tr th:only-of-type {\n",
              "        vertical-align: middle;\n",
              "    }\n",
              "\n",
              "    .dataframe tbody tr th {\n",
              "        vertical-align: top;\n",
              "    }\n",
              "\n",
              "    .dataframe thead th {\n",
              "        text-align: right;\n",
              "    }\n",
              "</style>\n",
              "<table border=\"1\" class=\"dataframe\">\n",
              "  <thead>\n",
              "    <tr style=\"text-align: right;\">\n",
              "      <th></th>\n",
              "      <th>v1</th>\n",
              "      <th>clean_data</th>\n",
              "    </tr>\n",
              "  </thead>\n",
              "  <tbody>\n",
              "    <tr>\n",
              "      <th>0</th>\n",
              "      <td>ham</td>\n",
              "      <td>go jurong point crazi avail bugi n great world...</td>\n",
              "    </tr>\n",
              "    <tr>\n",
              "      <th>1</th>\n",
              "      <td>ham</td>\n",
              "      <td>ok lar joke wif u oni</td>\n",
              "    </tr>\n",
              "    <tr>\n",
              "      <th>2</th>\n",
              "      <td>spam</td>\n",
              "      <td>free entri two wkli comp win fa cup final tkt ...</td>\n",
              "    </tr>\n",
              "    <tr>\n",
              "      <th>3</th>\n",
              "      <td>ham</td>\n",
              "      <td>u dun say earli hor u c alreadi say</td>\n",
              "    </tr>\n",
              "    <tr>\n",
              "      <th>4</th>\n",
              "      <td>ham</td>\n",
              "      <td>nah dont think goe usf live around though</td>\n",
              "    </tr>\n",
              "    <tr>\n",
              "      <th>...</th>\n",
              "      <td>...</td>\n",
              "      <td>...</td>\n",
              "    </tr>\n",
              "    <tr>\n",
              "      <th>5567</th>\n",
              "      <td>spam</td>\n",
              "      <td>2nd time tri two contact u u å£750 pound prize...</td>\n",
              "    </tr>\n",
              "    <tr>\n",
              "      <th>5568</th>\n",
              "      <td>ham</td>\n",
              "      <td>ì b go esplanad fr home</td>\n",
              "    </tr>\n",
              "    <tr>\n",
              "      <th>5569</th>\n",
              "      <td>ham</td>\n",
              "      <td>piti mood soani suggest</td>\n",
              "    </tr>\n",
              "    <tr>\n",
              "      <th>5570</th>\n",
              "      <td>ham</td>\n",
              "      <td>guy bitch act like id interest buy someth els ...</td>\n",
              "    </tr>\n",
              "    <tr>\n",
              "      <th>5571</th>\n",
              "      <td>ham</td>\n",
              "      <td>rofl true name</td>\n",
              "    </tr>\n",
              "  </tbody>\n",
              "</table>\n",
              "<p>5114 rows × 2 columns</p>\n",
              "</div>\n",
              "      <button class=\"colab-df-convert\" onclick=\"convertToInteractive('df-b58bbfd2-1a86-4d14-abbb-0e9751e15837')\"\n",
              "              title=\"Convert this dataframe to an interactive table.\"\n",
              "              style=\"display:none;\">\n",
              "        \n",
              "  <svg xmlns=\"http://www.w3.org/2000/svg\" height=\"24px\"viewBox=\"0 0 24 24\"\n",
              "       width=\"24px\">\n",
              "    <path d=\"M0 0h24v24H0V0z\" fill=\"none\"/>\n",
              "    <path d=\"M18.56 5.44l.94 2.06.94-2.06 2.06-.94-2.06-.94-.94-2.06-.94 2.06-2.06.94zm-11 1L8.5 8.5l.94-2.06 2.06-.94-2.06-.94L8.5 2.5l-.94 2.06-2.06.94zm10 10l.94 2.06.94-2.06 2.06-.94-2.06-.94-.94-2.06-.94 2.06-2.06.94z\"/><path d=\"M17.41 7.96l-1.37-1.37c-.4-.4-.92-.59-1.43-.59-.52 0-1.04.2-1.43.59L10.3 9.45l-7.72 7.72c-.78.78-.78 2.05 0 2.83L4 21.41c.39.39.9.59 1.41.59.51 0 1.02-.2 1.41-.59l7.78-7.78 2.81-2.81c.8-.78.8-2.07 0-2.86zM5.41 20L4 18.59l7.72-7.72 1.47 1.35L5.41 20z\"/>\n",
              "  </svg>\n",
              "      </button>\n",
              "      \n",
              "  <style>\n",
              "    .colab-df-container {\n",
              "      display:flex;\n",
              "      flex-wrap:wrap;\n",
              "      gap: 12px;\n",
              "    }\n",
              "\n",
              "    .colab-df-convert {\n",
              "      background-color: #E8F0FE;\n",
              "      border: none;\n",
              "      border-radius: 50%;\n",
              "      cursor: pointer;\n",
              "      display: none;\n",
              "      fill: #1967D2;\n",
              "      height: 32px;\n",
              "      padding: 0 0 0 0;\n",
              "      width: 32px;\n",
              "    }\n",
              "\n",
              "    .colab-df-convert:hover {\n",
              "      background-color: #E2EBFA;\n",
              "      box-shadow: 0px 1px 2px rgba(60, 64, 67, 0.3), 0px 1px 3px 1px rgba(60, 64, 67, 0.15);\n",
              "      fill: #174EA6;\n",
              "    }\n",
              "\n",
              "    [theme=dark] .colab-df-convert {\n",
              "      background-color: #3B4455;\n",
              "      fill: #D2E3FC;\n",
              "    }\n",
              "\n",
              "    [theme=dark] .colab-df-convert:hover {\n",
              "      background-color: #434B5C;\n",
              "      box-shadow: 0px 1px 3px 1px rgba(0, 0, 0, 0.15);\n",
              "      filter: drop-shadow(0px 1px 2px rgba(0, 0, 0, 0.3));\n",
              "      fill: #FFFFFF;\n",
              "    }\n",
              "  </style>\n",
              "\n",
              "      <script>\n",
              "        const buttonEl =\n",
              "          document.querySelector('#df-b58bbfd2-1a86-4d14-abbb-0e9751e15837 button.colab-df-convert');\n",
              "        buttonEl.style.display =\n",
              "          google.colab.kernel.accessAllowed ? 'block' : 'none';\n",
              "\n",
              "        async function convertToInteractive(key) {\n",
              "          const element = document.querySelector('#df-b58bbfd2-1a86-4d14-abbb-0e9751e15837');\n",
              "          const dataTable =\n",
              "            await google.colab.kernel.invokeFunction('convertToInteractive',\n",
              "                                                     [key], {});\n",
              "          if (!dataTable) return;\n",
              "\n",
              "          const docLinkHtml = 'Like what you see? Visit the ' +\n",
              "            '<a target=\"_blank\" href=https://colab.research.google.com/notebooks/data_table.ipynb>data table notebook</a>'\n",
              "            + ' to learn more about interactive tables.';\n",
              "          element.innerHTML = '';\n",
              "          dataTable['output_type'] = 'display_data';\n",
              "          await google.colab.output.renderOutput(dataTable, element);\n",
              "          const docLink = document.createElement('div');\n",
              "          docLink.innerHTML = docLinkHtml;\n",
              "          element.appendChild(docLink);\n",
              "        }\n",
              "      </script>\n",
              "    </div>\n",
              "  </div>\n",
              "  "
            ]
          },
          "metadata": {},
          "execution_count": 2
        }
      ],
      "source": [
        "def Remove_punctation(text):\n",
        "    translator = str.maketrans('', '', string.punctuation)\n",
        "    return text.translate(translator)\n",
        "\n",
        "def Remove_WhiteSpace(text):\n",
        "    return \" \".join(text.split())\n",
        "\n",
        "def Convert_num(text):\n",
        "    converter=info.engine()\n",
        "    temp_text=text.split()\n",
        "    new_text=[]\n",
        "    for word in temp_text :\n",
        "        if word.isdigit():\n",
        "            temp=converter.number_to_words(word)\n",
        "            new_text.append(temp)\n",
        "        else:\n",
        "            new_text.append(word)\n",
        "    temp_text=\" \".join(new_text)\n",
        "    return temp_text\n",
        "\n",
        "def RemoveSpecialChar(text):\n",
        "    text=re.sub('a-zA-z',' ',text)\n",
        "    return text\n",
        "\n",
        "def Remove_stopWords(text):\n",
        "    English_StopWords=set(stopwords.words(\"english\"))\n",
        "    word_tokens=word_tokenize(text)\n",
        "    new_text=[word for word in word_tokens if word not in English_StopWords]\n",
        "    return new_text\n",
        "\n",
        "def SpellChecker(text):\n",
        "    correctWords=[]\n",
        "    for word in text:\n",
        "        correctWord=TextBlob(word).correct()\n",
        "        correctWords.append(correctWord)\n",
        "    return correctWords\n",
        "\n",
        "def Stemming(text):\n",
        "    stemmer=PorterStemmer()\n",
        "    stem_words=[stemmer.stem(word) for word in text ]\n",
        "    return stem_words\n",
        "\n",
        "def Lemmatization(text):\n",
        "    lemmatizer=WordNetLemmatizer()\n",
        "    lemm_words=[lemmatizer.lemmatize(word,pos='v') for word in text]\n",
        "    return lemm_words\n",
        "\n",
        "def listToString(text):\n",
        "    return ' '.join(text)\n",
        "\n",
        "def POS_Tagging(text):\n",
        "    return pos_tag(text)\n",
        "\n",
        "df=pd.read_csv(\"data_spam.csv\",encoding='latin-1')\n",
        "df.drop(columns=['Unnamed: 2','Unnamed: 3','Unnamed: 4'],inplace= True) ##lw mash hatshtghl b collab shel el satr dah\n",
        "##check for nulls\n",
        "print(df.isnull().sum())\n",
        "##Lower case\n",
        "df['clean_data']=df['v2'].str.lower()\n",
        "##Remove whiteSpace\n",
        "df['clean_data'] = df['clean_data'].apply(lambda raw: Remove_WhiteSpace(raw))\n",
        "##Convert number to words\n",
        "df['clean_data'] = df['clean_data'].apply(lambda raw:Convert_num(raw))\n",
        "##Remove punctation\n",
        "df['clean_data'] = df['clean_data'].apply(lambda raw: Remove_punctation(raw))\n",
        "##Remove special character\n",
        "df['clean_data']=df['clean_data'].apply(lambda raw:RemoveSpecialChar(raw))\n",
        "##Remove_stopWords\n",
        "df['clean_data'] = df['clean_data'].apply(lambda raw:Remove_stopWords(raw))\n",
        "##Stemming\n",
        "df['clean_data']=df['clean_data'].apply(lambda raw:Stemming(raw))\n",
        "##Lemmatization\n",
        "df['clean_data']=df['clean_data'].apply(lambda raw:Lemmatization(raw))\n",
        "## Convert list to string\n",
        "df['clean_data'] = df['clean_data'].apply(lambda x: listToString(x))\n",
        "df=df.drop(columns=['v2'])## drop un_cleaned data\n",
        "print('Number of duplictaed rows=',df.duplicated().sum())\n",
        "df.drop_duplicates(inplace=True)\n",
        "print('Number of duplictaed rows after cleaning=',df.duplicated().sum())\n",
        "df"
      ]
    },
    {
      "cell_type": "markdown",
      "source": [
        "# **Visualization**"
      ],
      "metadata": {
        "id": "-zINZDsICH-J"
      }
    },
    {
      "cell_type": "code",
      "source": [
        "plt.pie(df['v1'].value_counts(),labels=['Ham','spam'],autopct='%0.2f')\n",
        "plt.show()"
      ],
      "metadata": {
        "colab": {
          "base_uri": "https://localhost:8080/",
          "height": 248
        },
        "id": "PGn0X_4ky2g4",
        "outputId": "e202c3d4-11d8-4e47-c1d6-909875267f77"
      },
      "execution_count": null,
      "outputs": [
        {
          "output_type": "display_data",
          "data": {
            "text/plain": [
              "<Figure size 432x288 with 1 Axes>"
            ],
            "image/png": "[encoded data removed]"
          },
          "metadata": {}
        }
      ]
    },
    {
      "cell_type": "code",
      "source": [
        "##After drop unnecessary columns\n",
        "df.info()"
      ],
      "metadata": {
        "colab": {
          "base_uri": "https://localhost:8080/"
        },
        "id": "EkxFO_pEtM6L",
        "outputId": "81e8c5af-2445-4410-cdf9-e6e39996a322"
      },
      "execution_count": null,
      "outputs": [
        {
          "output_type": "stream",
          "name": "stdout",
          "text": [
            "<class 'pandas.core.frame.DataFrame'>\n",
            "Int64Index: 5114 entries, 0 to 5571\n",
            "Data columns (total 2 columns):\n",
            " #   Column      Non-Null Count  Dtype \n",
            "---  ------      --------------  ----- \n",
            " 0   v1          5114 non-null   object\n",
            " 1   clean_data  5114 non-null   object\n",
            "dtypes: object(2)\n",
            "memory usage: 119.9+ KB\n"
          ]
        }
      ]
    },
    {
      "cell_type": "code",
      "source": [
        "# Generate BoW features\n",
        "vectorizer = CountVectorizer()\n",
        "X_bow = vectorizer.fit_transform(df['clean_data']).toarray()\n",
        "X_bow\n"
      ],
      "metadata": {
        "colab": {
          "base_uri": "https://localhost:8080/"
        },
        "id": "i3CGGx7azulm",
        "outputId": "7b27f90c-9fa7-45e2-a8cc-97d3acb2b556"
      },
      "execution_count": null,
      "outputs": [
        {
          "output_type": "execute_result",
          "data": {
            "text/plain": [
              "array([[0, 0, 0, ..., 0, 0, 0],\n",
              "       [0, 0, 0, ..., 0, 0, 0],\n",
              "       [0, 0, 0, ..., 0, 0, 0],\n",
              "       ...,\n",
              "       [0, 0, 0, ..., 0, 0, 0],\n",
              "       [0, 0, 0, ..., 0, 0, 0],\n",
              "       [0, 0, 0, ..., 0, 0, 0]])"
            ]
          },
          "metadata": {},
          "execution_count": 5
        }
      ]
    },
    {
      "cell_type": "code",
      "source": [
        "from sklearn.feature_extraction.text import TfidfVectorizer\n",
        "\n",
        "# Generate TF-IDF features\n",
        "vectorizer = TfidfVectorizer()\n",
        "X_tfidf = vectorizer.fit_transform(df['clean_data']).toarray()\n",
        "X_tfidf"
      ],
      "metadata": {
        "colab": {
          "base_uri": "https://localhost:8080/"
        },
        "id": "1VRk2SvT0DbM",
        "outputId": "bcd8ea94-c04e-4af4-8d14-631cd5012b9c"
      },
      "execution_count": null,
      "outputs": [
        {
          "output_type": "execute_result",
          "data": {
            "text/plain": [
              "array([[0., 0., 0., ..., 0., 0., 0.],\n",
              "       [0., 0., 0., ..., 0., 0., 0.],\n",
              "       [0., 0., 0., ..., 0., 0., 0.],\n",
              "       ...,\n",
              "       [0., 0., 0., ..., 0., 0., 0.],\n",
              "       [0., 0., 0., ..., 0., 0., 0.],\n",
              "       [0., 0., 0., ..., 0., 0., 0.]])"
            ]
          },
          "metadata": {},
          "execution_count": 9
        }
      ]
    },
    {
      "cell_type": "markdown",
      "source": [
        "### ***MODELS USING BOW FEATURE***"
      ],
      "metadata": {
        "id": "v9nCE6MP0jCz"
      }
    },
    {
      "cell_type": "code",
      "source": [
        "X_train, X_test, y_train, y_test = train_test_split(X_bow,df['v1'], test_size=0.2, random_state=42)\n",
        "# Split the data into training and testing sets\n",
        "classifiers = {\n",
        "    'Logistic Regression': LogisticRegression(),\n",
        "    'Multinomial Naive Bayes': MultinomialNB(),\n",
        "    'Support Vector Machine': svm.SVC(),\n",
        "    'Random Forest': RandomForestClassifier(),\n",
        "    'KNeighborsClassifier':KNeighborsClassifier()\n",
        "}\n",
        "for name, clf in classifiers.items():\n",
        "    clf.fit(X_train, y_train)\n",
        "    y_pred = clf.predict(X_test)\n",
        "    acc = accuracy_score(y_test, y_pred)*100\n",
        "    f1 = f1_score(y_test, y_pred, pos_label='spam')*100\n",
        "    prec = precision_score(y_test, y_pred, pos_label='spam')*100\n",
        "    rec = recall_score(y_test, y_pred, pos_label='spam')*100\n",
        "    print(f'{name} Accuracy: {acc:.4f}, Precision: {prec:.4f}, Recall: {rec:.4f}, F1-score: {f1:.4f}')"
      ],
      "metadata": {
        "id": "VB8cLQjm0yWu",
        "colab": {
          "base_uri": "https://localhost:8080/"
        },
        "outputId": "511e7721-cf6f-4f27-a5a4-051046886bcf"
      },
      "execution_count": null,
      "outputs": [
        {
          "output_type": "stream",
          "name": "stdout",
          "text": [
            "Logistic Regression Accuracy: 98.2405, Precision: 99.1379, Recall: 87.1212, F1-score: 92.7419\n",
            "Multinomial Naive Bayes Accuracy: 98.1427, Precision: 91.2409, Recall: 94.6970, F1-score: 92.9368\n",
            "Support Vector Machine Accuracy: 98.1427, Precision: 99.1304, Recall: 86.3636, F1-score: 92.3077\n",
            "Random Forest Accuracy: 98.0450, Precision: 98.2759, Recall: 86.3636, F1-score: 91.9355\n",
            "KNeighborsClassifier Accuracy: 92.8641, Precision: 100.0000, Recall: 44.6970, F1-score: 61.7801\n"
          ]
        }
      ]
    },
    {
      "cell_type": "markdown",
      "source": [
        "### ***MODELS USING TF-IDF FEATURE***"
      ],
      "metadata": {
        "id": "jy7Pq9zZ0xUO"
      }
    },
    {
      "cell_type": "code",
      "source": [
        "X_train, X_test, y_train, y_test = train_test_split(X_tfidf,df['v1'], test_size=0.2, random_state=42)\n",
        "# Split the data into training and testing sets\n",
        "classifiers = {\n",
        "    'Logistic Regression': LogisticRegression(),\n",
        "    'Multinomial Naive Bayes': MultinomialNB(),\n",
        "    'Support Vector Machine': svm.SVC(),\n",
        "    'Random Forest': RandomForestClassifier(),\n",
        "    'KNeighborsClassifier':KNeighborsClassifier()\n",
        "}\n",
        "for name, clf in classifiers.items():\n",
        "    clf.fit(X_train, y_train)\n",
        "    y_pred = clf.predict(X_test)\n",
        "    acc = accuracy_score(y_test, y_pred)*100\n",
        "    f1 = f1_score(y_test, y_pred, pos_label='spam')*100\n",
        "    prec = precision_score(y_test, y_pred, pos_label='spam')*100\n",
        "    rec = recall_score(y_test, y_pred, pos_label='spam')*100\n",
        "    print(f'{name} Accuracy: {acc:.4f}, Precision: {prec:.4f}, Recall: {rec:.4f}, F1-score: {f1:.4f}')"
      ],
      "metadata": {
        "id": "rMYkPcJU2vlo",
        "colab": {
          "base_uri": "https://localhost:8080/"
        },
        "outputId": "0c0f98c3-1c53-413c-9f3d-26e1d382ec6c"
      },
      "execution_count": null,
      "outputs": [
        {
          "output_type": "stream",
          "name": "stdout",
          "text": [
            "Logistic Regression Accuracy: 96.4809, Precision: 100.0000, Recall: 72.7273, F1-score: 84.2105\n",
            "Multinomial Naive Bayes Accuracy: 97.9472, Precision: 99.1150, Recall: 84.8485, F1-score: 91.4286\n",
            "Support Vector Machine Accuracy: 97.8495, Precision: 100.0000, Recall: 83.3333, F1-score: 90.9091\n",
            "Random Forest Accuracy: 98.3382, Precision: 99.1453, Recall: 87.8788, F1-score: 93.1727\n",
            "KNeighborsClassifier Accuracy: 91.1046, Precision: 100.0000, Recall: 31.0606, F1-score: 47.3988\n"
          ]
        }
      ]
    }
  ]
}